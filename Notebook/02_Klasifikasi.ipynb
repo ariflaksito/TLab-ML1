{
 "cells": [
  {
   "cell_type": "markdown",
   "metadata": {},
   "source": [
    "# Klasifikasi\n",
    "Dalam klasifikasi kita akan gunakan 3 algoritma:\n",
    "1. Naive Bayes\n",
    "2. Decision Tree\n",
    "3. KNN"
   ]
  },
  {
   "cell_type": "code",
   "execution_count": 1,
   "metadata": {},
   "outputs": [],
   "source": [
    "import pandas as pd"
   ]
  },
  {
   "cell_type": "code",
   "execution_count": 3,
   "metadata": {},
   "outputs": [],
   "source": [
    "df = pd.DataFrame([[170,55,'L'],[168,70,'L'],[175,68,'L'],[164,60,'L'],\n",
    "                    [155,44,'P'],[165,50,'P'],[150,45,'P'],[152,60,'P']])\n",
    "df.columns = ['Tinggi', 'Berat', 'JK']"
   ]
  },
  {
   "cell_type": "code",
   "execution_count": 5,
   "metadata": {},
   "outputs": [
    {
     "name": "stdout",
     "output_type": "stream",
     "text": [
      "<class 'pandas.core.frame.DataFrame'>\n",
      "RangeIndex: 8 entries, 0 to 7\n",
      "Data columns (total 3 columns):\n",
      " #   Column  Non-Null Count  Dtype \n",
      "---  ------  --------------  ----- \n",
      " 0   Tinggi  8 non-null      int64 \n",
      " 1   Berat   8 non-null      int64 \n",
      " 2   JK      8 non-null      object\n",
      "dtypes: int64(2), object(1)\n",
      "memory usage: 320.0+ bytes\n"
     ]
    }
   ],
   "source": [
    "df.info()"
   ]
  },
  {
   "cell_type": "code",
   "execution_count": 6,
   "metadata": {},
   "outputs": [
    {
     "data": {
      "text/html": [
       "<div>\n",
       "<style scoped>\n",
       "    .dataframe tbody tr th:only-of-type {\n",
       "        vertical-align: middle;\n",
       "    }\n",
       "\n",
       "    .dataframe tbody tr th {\n",
       "        vertical-align: top;\n",
       "    }\n",
       "\n",
       "    .dataframe thead th {\n",
       "        text-align: right;\n",
       "    }\n",
       "</style>\n",
       "<table border=\"1\" class=\"dataframe\">\n",
       "  <thead>\n",
       "    <tr style=\"text-align: right;\">\n",
       "      <th></th>\n",
       "      <th>Tinggi</th>\n",
       "      <th>Berat</th>\n",
       "      <th>JK</th>\n",
       "    </tr>\n",
       "  </thead>\n",
       "  <tbody>\n",
       "    <tr>\n",
       "      <th>0</th>\n",
       "      <td>170</td>\n",
       "      <td>55</td>\n",
       "      <td>L</td>\n",
       "    </tr>\n",
       "    <tr>\n",
       "      <th>1</th>\n",
       "      <td>168</td>\n",
       "      <td>70</td>\n",
       "      <td>L</td>\n",
       "    </tr>\n",
       "    <tr>\n",
       "      <th>2</th>\n",
       "      <td>175</td>\n",
       "      <td>68</td>\n",
       "      <td>L</td>\n",
       "    </tr>\n",
       "    <tr>\n",
       "      <th>3</th>\n",
       "      <td>164</td>\n",
       "      <td>60</td>\n",
       "      <td>L</td>\n",
       "    </tr>\n",
       "    <tr>\n",
       "      <th>4</th>\n",
       "      <td>155</td>\n",
       "      <td>44</td>\n",
       "      <td>P</td>\n",
       "    </tr>\n",
       "    <tr>\n",
       "      <th>5</th>\n",
       "      <td>165</td>\n",
       "      <td>50</td>\n",
       "      <td>P</td>\n",
       "    </tr>\n",
       "    <tr>\n",
       "      <th>6</th>\n",
       "      <td>150</td>\n",
       "      <td>45</td>\n",
       "      <td>P</td>\n",
       "    </tr>\n",
       "    <tr>\n",
       "      <th>7</th>\n",
       "      <td>152</td>\n",
       "      <td>60</td>\n",
       "      <td>P</td>\n",
       "    </tr>\n",
       "  </tbody>\n",
       "</table>\n",
       "</div>"
      ],
      "text/plain": [
       "   Tinggi  Berat JK\n",
       "0     170     55  L\n",
       "1     168     70  L\n",
       "2     175     68  L\n",
       "3     164     60  L\n",
       "4     155     44  P\n",
       "5     165     50  P\n",
       "6     150     45  P\n",
       "7     152     60  P"
      ]
     },
     "execution_count": 6,
     "metadata": {},
     "output_type": "execute_result"
    }
   ],
   "source": [
    "df"
   ]
  },
  {
   "cell_type": "code",
   "execution_count": 7,
   "metadata": {},
   "outputs": [],
   "source": [
    "X = df[['Tinggi', 'Berat']]\n",
    "y = df['JK']"
   ]
  },
  {
   "cell_type": "code",
   "execution_count": 12,
   "metadata": {},
   "outputs": [],
   "source": [
    "# Algoritma KNN\n",
    "from sklearn.neighbors import KNeighborsClassifier"
   ]
  },
  {
   "cell_type": "code",
   "execution_count": 13,
   "metadata": {},
   "outputs": [
    {
     "data": {
      "text/plain": [
       "KNeighborsClassifier(n_neighbors=1)"
      ]
     },
     "execution_count": 13,
     "metadata": {},
     "output_type": "execute_result"
    }
   ],
   "source": [
    "knn = KNeighborsClassifier(n_neighbors = 1)\n",
    "knn.fit(X, y)"
   ]
  },
  {
   "cell_type": "code",
   "execution_count": 15,
   "metadata": {},
   "outputs": [
    {
     "data": {
      "text/plain": [
       "array(['L', 'P'], dtype=object)"
      ]
     },
     "execution_count": 15,
     "metadata": {},
     "output_type": "execute_result"
    }
   ],
   "source": [
    "d1 = [[163, 56], [155, 43]]\n",
    "knn.predict(d1)"
   ]
  },
  {
   "cell_type": "code",
   "execution_count": 16,
   "metadata": {},
   "outputs": [],
   "source": [
    "# Visualisasi\n",
    "import matplotlib.pyplot as plt"
   ]
  },
  {
   "cell_type": "code",
   "execution_count": 22,
   "metadata": {},
   "outputs": [
    {
     "data": {
      "image/png": "[encoded data removed]",
      "text/plain": [
       "<Figure size 432x288 with 1 Axes>"
      ]
     },
     "metadata": {
      "needs_background": "light"
     },
     "output_type": "display_data"
    }
   ],
   "source": [
    "plt.scatter(df['Tinggi'][:4], df['Berat'][:4], color='red', label='L')\n",
    "plt.scatter(df['Tinggi'][4:], df['Berat'][4:], color='blue', label='P')\n",
    "plt.scatter(155, 43, color='green', label='New')\n",
    "plt.grid()\n",
    "plt.legend()\n",
    "plt.show()"
   ]
  },
  {
   "cell_type": "code",
   "execution_count": 23,
   "metadata": {},
   "outputs": [],
   "source": [
    "# Algoritma Naive Bayes\n",
    "from sklearn.naive_bayes import GaussianNB"
   ]
  },
  {
   "cell_type": "code",
   "execution_count": 25,
   "metadata": {},
   "outputs": [
    {
     "data": {
      "text/plain": [
       "GaussianNB()"
      ]
     },
     "execution_count": 25,
     "metadata": {},
     "output_type": "execute_result"
    }
   ],
   "source": [
    "nb = GaussianNB()\n",
    "nb.fit(X, y)"
   ]
  },
  {
   "cell_type": "code",
   "execution_count": 26,
   "metadata": {},
   "outputs": [
    {
     "data": {
      "text/plain": [
       "array(['P', 'P'], dtype='<U1')"
      ]
     },
     "execution_count": 26,
     "metadata": {},
     "output_type": "execute_result"
    }
   ],
   "source": [
    "d1 = [[163, 56], [155, 43]]\n",
    "nb.predict(d1)"
   ]
  },
  {
   "cell_type": "markdown",
   "metadata": {},
   "source": [
    "## Case: Masa studi mahasiswa "
   ]
  },
  {
   "cell_type": "code",
   "execution_count": 27,
   "metadata": {},
   "outputs": [],
   "source": [
    "df_mhs = pd.read_excel('students.xlsx')"
   ]
  },
  {
   "cell_type": "code",
   "execution_count": 29,
   "metadata": {},
   "outputs": [
    {
     "data": {
      "text/html": [
       "<div>\n",
       "<style scoped>\n",
       "    .dataframe tbody tr th:only-of-type {\n",
       "        vertical-align: middle;\n",
       "    }\n",
       "\n",
       "    .dataframe tbody tr th {\n",
       "        vertical-align: top;\n",
       "    }\n",
       "\n",
       "    .dataframe thead th {\n",
       "        text-align: right;\n",
       "    }\n",
       "</style>\n",
       "<table border=\"1\" class=\"dataframe\">\n",
       "  <thead>\n",
       "    <tr style=\"text-align: right;\">\n",
       "      <th></th>\n",
       "      <th>ANGKATAN</th>\n",
       "      <th>JK</th>\n",
       "      <th>IPK1</th>\n",
       "      <th>IPK2</th>\n",
       "      <th>IPK3</th>\n",
       "      <th>IPK4</th>\n",
       "      <th>MSTUDI</th>\n",
       "      <th>STATUS</th>\n",
       "    </tr>\n",
       "  </thead>\n",
       "  <tbody>\n",
       "    <tr>\n",
       "      <th>0</th>\n",
       "      <td>2013</td>\n",
       "      <td>L</td>\n",
       "      <td>3.500000</td>\n",
       "      <td>3.833333</td>\n",
       "      <td>4.000000</td>\n",
       "      <td>3.500000</td>\n",
       "      <td>37.848826</td>\n",
       "      <td>TEPAT</td>\n",
       "    </tr>\n",
       "    <tr>\n",
       "      <th>1</th>\n",
       "      <td>2013</td>\n",
       "      <td>L</td>\n",
       "      <td>3.500000</td>\n",
       "      <td>3.750000</td>\n",
       "      <td>3.333333</td>\n",
       "      <td>3.250000</td>\n",
       "      <td>43.762706</td>\n",
       "      <td>TEPAT</td>\n",
       "    </tr>\n",
       "    <tr>\n",
       "      <th>2</th>\n",
       "      <td>2013</td>\n",
       "      <td>L</td>\n",
       "      <td>3.166667</td>\n",
       "      <td>3.083333</td>\n",
       "      <td>3.333333</td>\n",
       "      <td>3.250000</td>\n",
       "      <td>37.848826</td>\n",
       "      <td>TEPAT</td>\n",
       "    </tr>\n",
       "    <tr>\n",
       "      <th>3</th>\n",
       "      <td>2013</td>\n",
       "      <td>P</td>\n",
       "      <td>3.500000</td>\n",
       "      <td>3.250000</td>\n",
       "      <td>3.500000</td>\n",
       "      <td>3.416667</td>\n",
       "      <td>40.772911</td>\n",
       "      <td>TEPAT</td>\n",
       "    </tr>\n",
       "    <tr>\n",
       "      <th>4</th>\n",
       "      <td>2013</td>\n",
       "      <td>L</td>\n",
       "      <td>3.250000</td>\n",
       "      <td>3.166667</td>\n",
       "      <td>3.250000</td>\n",
       "      <td>3.166667</td>\n",
       "      <td>43.762706</td>\n",
       "      <td>TEPAT</td>\n",
       "    </tr>\n",
       "  </tbody>\n",
       "</table>\n",
       "</div>"
      ],
      "text/plain": [
       "   ANGKATAN JK      IPK1      IPK2      IPK3      IPK4     MSTUDI STATUS\n",
       "0      2013  L  3.500000  3.833333  4.000000  3.500000  37.848826  TEPAT\n",
       "1      2013  L  3.500000  3.750000  3.333333  3.250000  43.762706  TEPAT\n",
       "2      2013  L  3.166667  3.083333  3.333333  3.250000  37.848826  TEPAT\n",
       "3      2013  P  3.500000  3.250000  3.500000  3.416667  40.772911  TEPAT\n",
       "4      2013  L  3.250000  3.166667  3.250000  3.166667  43.762706  TEPAT"
      ]
     },
     "execution_count": 29,
     "metadata": {},
     "output_type": "execute_result"
    }
   ],
   "source": [
    "df_mhs.head()"
   ]
  },
  {
   "cell_type": "code",
   "execution_count": 30,
   "metadata": {},
   "outputs": [
    {
     "data": {
      "text/plain": [
       "(3667, 8)"
      ]
     },
     "execution_count": 30,
     "metadata": {},
     "output_type": "execute_result"
    }
   ],
   "source": [
    "df_mhs.shape"
   ]
  },
  {
   "cell_type": "code",
   "execution_count": 31,
   "metadata": {},
   "outputs": [
    {
     "data": {
      "text/plain": [
       "TDK TEPAT    1956\n",
       "TEPAT        1711\n",
       "Name: STATUS, dtype: int64"
      ]
     },
     "execution_count": 31,
     "metadata": {},
     "output_type": "execute_result"
    }
   ],
   "source": [
    "df_mhs['STATUS'].value_counts()"
   ]
  },
  {
   "cell_type": "code",
   "execution_count": 32,
   "metadata": {},
   "outputs": [],
   "source": [
    "import numpy as np"
   ]
  },
  {
   "cell_type": "code",
   "execution_count": 33,
   "metadata": {},
   "outputs": [],
   "source": [
    "df_mhs['STS'] = np.where(df_mhs['MSTUDI']>48, 0, 1)"
   ]
  },
  {
   "cell_type": "code",
   "execution_count": 36,
   "metadata": {},
   "outputs": [
    {
     "data": {
      "text/html": [
       "<div>\n",
       "<style scoped>\n",
       "    .dataframe tbody tr th:only-of-type {\n",
       "        vertical-align: middle;\n",
       "    }\n",
       "\n",
       "    .dataframe tbody tr th {\n",
       "        vertical-align: top;\n",
       "    }\n",
       "\n",
       "    .dataframe thead th {\n",
       "        text-align: right;\n",
       "    }\n",
       "</style>\n",
       "<table border=\"1\" class=\"dataframe\">\n",
       "  <thead>\n",
       "    <tr style=\"text-align: right;\">\n",
       "      <th></th>\n",
       "      <th>ANGKATAN</th>\n",
       "      <th>JK</th>\n",
       "      <th>IPK1</th>\n",
       "      <th>IPK2</th>\n",
       "      <th>IPK3</th>\n",
       "      <th>IPK4</th>\n",
       "      <th>MSTUDI</th>\n",
       "      <th>STATUS</th>\n",
       "      <th>STS</th>\n",
       "    </tr>\n",
       "  </thead>\n",
       "  <tbody>\n",
       "    <tr>\n",
       "      <th>3657</th>\n",
       "      <td>2005</td>\n",
       "      <td>L</td>\n",
       "      <td>3.416667</td>\n",
       "      <td>3.538462</td>\n",
       "      <td>3.083333</td>\n",
       "      <td>0.0</td>\n",
       "      <td>55.426189</td>\n",
       "      <td>TDK TEPAT</td>\n",
       "      <td>0</td>\n",
       "    </tr>\n",
       "    <tr>\n",
       "      <th>3658</th>\n",
       "      <td>2005</td>\n",
       "      <td>L</td>\n",
       "      <td>3.166667</td>\n",
       "      <td>3.384615</td>\n",
       "      <td>3.333333</td>\n",
       "      <td>0.0</td>\n",
       "      <td>43.762706</td>\n",
       "      <td>TEPAT</td>\n",
       "      <td>1</td>\n",
       "    </tr>\n",
       "    <tr>\n",
       "      <th>3659</th>\n",
       "      <td>2005</td>\n",
       "      <td>L</td>\n",
       "      <td>3.416667</td>\n",
       "      <td>3.428571</td>\n",
       "      <td>3.000000</td>\n",
       "      <td>0.0</td>\n",
       "      <td>46.785355</td>\n",
       "      <td>TEPAT</td>\n",
       "      <td>1</td>\n",
       "    </tr>\n",
       "    <tr>\n",
       "      <th>3660</th>\n",
       "      <td>2005</td>\n",
       "      <td>P</td>\n",
       "      <td>3.583333</td>\n",
       "      <td>3.642857</td>\n",
       "      <td>3.333333</td>\n",
       "      <td>0.0</td>\n",
       "      <td>37.750262</td>\n",
       "      <td>TEPAT</td>\n",
       "      <td>1</td>\n",
       "    </tr>\n",
       "    <tr>\n",
       "      <th>3661</th>\n",
       "      <td>2005</td>\n",
       "      <td>L</td>\n",
       "      <td>2.750000</td>\n",
       "      <td>2.714286</td>\n",
       "      <td>2.230769</td>\n",
       "      <td>0.0</td>\n",
       "      <td>58.777388</td>\n",
       "      <td>TDK TEPAT</td>\n",
       "      <td>0</td>\n",
       "    </tr>\n",
       "    <tr>\n",
       "      <th>3662</th>\n",
       "      <td>2005</td>\n",
       "      <td>P</td>\n",
       "      <td>3.666667</td>\n",
       "      <td>3.357143</td>\n",
       "      <td>3.384615</td>\n",
       "      <td>0.0</td>\n",
       "      <td>43.762706</td>\n",
       "      <td>TEPAT</td>\n",
       "      <td>1</td>\n",
       "    </tr>\n",
       "    <tr>\n",
       "      <th>3663</th>\n",
       "      <td>2005</td>\n",
       "      <td>P</td>\n",
       "      <td>3.083333</td>\n",
       "      <td>3.428571</td>\n",
       "      <td>2.923077</td>\n",
       "      <td>0.0</td>\n",
       "      <td>49.380891</td>\n",
       "      <td>TDK TEPAT</td>\n",
       "      <td>0</td>\n",
       "    </tr>\n",
       "    <tr>\n",
       "      <th>3664</th>\n",
       "      <td>2005</td>\n",
       "      <td>L</td>\n",
       "      <td>2.333333</td>\n",
       "      <td>2.500000</td>\n",
       "      <td>1.454545</td>\n",
       "      <td>0.0</td>\n",
       "      <td>91.763691</td>\n",
       "      <td>TDK TEPAT</td>\n",
       "      <td>0</td>\n",
       "    </tr>\n",
       "    <tr>\n",
       "      <th>3665</th>\n",
       "      <td>2005</td>\n",
       "      <td>L</td>\n",
       "      <td>2.500000</td>\n",
       "      <td>2.642857</td>\n",
       "      <td>2.153846</td>\n",
       "      <td>0.0</td>\n",
       "      <td>67.746771</td>\n",
       "      <td>TDK TEPAT</td>\n",
       "      <td>0</td>\n",
       "    </tr>\n",
       "    <tr>\n",
       "      <th>3666</th>\n",
       "      <td>2005</td>\n",
       "      <td>L</td>\n",
       "      <td>3.166667</td>\n",
       "      <td>3.214286</td>\n",
       "      <td>3.083333</td>\n",
       "      <td>0.0</td>\n",
       "      <td>49.380891</td>\n",
       "      <td>TDK TEPAT</td>\n",
       "      <td>0</td>\n",
       "    </tr>\n",
       "  </tbody>\n",
       "</table>\n",
       "</div>"
      ],
      "text/plain": [
       "      ANGKATAN JK      IPK1      IPK2      IPK3  IPK4     MSTUDI     STATUS  \\\n",
       "3657      2005  L  3.416667  3.538462  3.083333   0.0  55.426189  TDK TEPAT   \n",
       "3658      2005  L  3.166667  3.384615  3.333333   0.0  43.762706      TEPAT   \n",
       "3659      2005  L  3.416667  3.428571  3.000000   0.0  46.785355      TEPAT   \n",
       "3660      2005  P  3.583333  3.642857  3.333333   0.0  37.750262      TEPAT   \n",
       "3661      2005  L  2.750000  2.714286  2.230769   0.0  58.777388  TDK TEPAT   \n",
       "3662      2005  P  3.666667  3.357143  3.384615   0.0  43.762706      TEPAT   \n",
       "3663      2005  P  3.083333  3.428571  2.923077   0.0  49.380891  TDK TEPAT   \n",
       "3664      2005  L  2.333333  2.500000  1.454545   0.0  91.763691  TDK TEPAT   \n",
       "3665      2005  L  2.500000  2.642857  2.153846   0.0  67.746771  TDK TEPAT   \n",
       "3666      2005  L  3.166667  3.214286  3.083333   0.0  49.380891  TDK TEPAT   \n",
       "\n",
       "      STS  \n",
       "3657    0  \n",
       "3658    1  \n",
       "3659    1  \n",
       "3660    1  \n",
       "3661    0  \n",
       "3662    1  \n",
       "3663    0  \n",
       "3664    0  \n",
       "3665    0  \n",
       "3666    0  "
      ]
     },
     "execution_count": 36,
     "metadata": {},
     "output_type": "execute_result"
    }
   ],
   "source": [
    "df_mhs.tail(10)"
   ]
  },
  {
   "cell_type": "code",
   "execution_count": 37,
   "metadata": {},
   "outputs": [
    {
     "data": {
      "text/html": [
       "<style  type=\"text/css\" >\n",
       "#T_5d9cf_row0_col0,#T_5d9cf_row1_col1,#T_5d9cf_row2_col2,#T_5d9cf_row3_col3,#T_5d9cf_row4_col4,#T_5d9cf_row5_col5,#T_5d9cf_row6_col6{\n",
       "            background-color:  #023858;\n",
       "            color:  #f1f1f1;\n",
       "        }#T_5d9cf_row0_col1{\n",
       "            background-color:  #76aad0;\n",
       "            color:  #000000;\n",
       "        }#T_5d9cf_row0_col2{\n",
       "            background-color:  #88b1d4;\n",
       "            color:  #000000;\n",
       "        }#T_5d9cf_row0_col3{\n",
       "            background-color:  #509ac6;\n",
       "            color:  #000000;\n",
       "        }#T_5d9cf_row0_col4{\n",
       "            background-color:  #328dbf;\n",
       "            color:  #000000;\n",
       "        }#T_5d9cf_row0_col5{\n",
       "            background-color:  #d7d6e9;\n",
       "            color:  #000000;\n",
       "        }#T_5d9cf_row0_col6{\n",
       "            background-color:  #6fa7ce;\n",
       "            color:  #000000;\n",
       "        }#T_5d9cf_row1_col0{\n",
       "            background-color:  #80aed2;\n",
       "            color:  #000000;\n",
       "        }#T_5d9cf_row1_col2{\n",
       "            background-color:  #1077b4;\n",
       "            color:  #f1f1f1;\n",
       "        }#T_5d9cf_row1_col3{\n",
       "            background-color:  #0f76b3;\n",
       "            color:  #f1f1f1;\n",
       "        }#T_5d9cf_row1_col4,#T_5d9cf_row4_col6{\n",
       "            background-color:  #60a1ca;\n",
       "            color:  #000000;\n",
       "        }#T_5d9cf_row1_col5{\n",
       "            background-color:  #dfddec;\n",
       "            color:  #000000;\n",
       "        }#T_5d9cf_row1_col6{\n",
       "            background-color:  #4c99c5;\n",
       "            color:  #000000;\n",
       "        }#T_5d9cf_row2_col0{\n",
       "            background-color:  #9ab8d8;\n",
       "            color:  #000000;\n",
       "        }#T_5d9cf_row2_col1{\n",
       "            background-color:  #1379b5;\n",
       "            color:  #f1f1f1;\n",
       "        }#T_5d9cf_row2_col3{\n",
       "            background-color:  #056dab;\n",
       "            color:  #f1f1f1;\n",
       "        }#T_5d9cf_row2_col4{\n",
       "            background-color:  #63a2cb;\n",
       "            color:  #000000;\n",
       "        }#T_5d9cf_row2_col5{\n",
       "            background-color:  #e6e2ef;\n",
       "            color:  #000000;\n",
       "        }#T_5d9cf_row2_col6{\n",
       "            background-color:  #4697c4;\n",
       "            color:  #000000;\n",
       "        }#T_5d9cf_row3_col0{\n",
       "            background-color:  #6da6cd;\n",
       "            color:  #000000;\n",
       "        }#T_5d9cf_row3_col1{\n",
       "            background-color:  #187cb6;\n",
       "            color:  #000000;\n",
       "        }#T_5d9cf_row3_col2{\n",
       "            background-color:  #056ead;\n",
       "            color:  #f1f1f1;\n",
       "        }#T_5d9cf_row3_col4{\n",
       "            background-color:  #2182b9;\n",
       "            color:  #000000;\n",
       "        }#T_5d9cf_row3_col5{\n",
       "            background-color:  #eee8f3;\n",
       "            color:  #000000;\n",
       "        }#T_5d9cf_row3_col6{\n",
       "            background-color:  #3d93c2;\n",
       "            color:  #000000;\n",
       "        }#T_5d9cf_row4_col0{\n",
       "            background-color:  #3790c0;\n",
       "            color:  #000000;\n",
       "        }#T_5d9cf_row4_col1{\n",
       "            background-color:  #5ea0ca;\n",
       "            color:  #000000;\n",
       "        }#T_5d9cf_row4_col2{\n",
       "            background-color:  #589ec8;\n",
       "            color:  #000000;\n",
       "        }#T_5d9cf_row4_col3{\n",
       "            background-color:  #167bb6;\n",
       "            color:  #000000;\n",
       "        }#T_5d9cf_row4_col5{\n",
       "            background-color:  #dddbec;\n",
       "            color:  #000000;\n",
       "        }#T_5d9cf_row5_col0,#T_5d9cf_row5_col1,#T_5d9cf_row5_col2,#T_5d9cf_row5_col3,#T_5d9cf_row5_col4,#T_5d9cf_row5_col6,#T_5d9cf_row6_col5{\n",
       "            background-color:  #fff7fb;\n",
       "            color:  #000000;\n",
       "        }#T_5d9cf_row6_col0{\n",
       "            background-color:  #a7bddb;\n",
       "            color:  #000000;\n",
       "        }#T_5d9cf_row6_col1{\n",
       "            background-color:  #7bacd1;\n",
       "            color:  #000000;\n",
       "        }#T_5d9cf_row6_col2{\n",
       "            background-color:  #6ba5cd;\n",
       "            color:  #000000;\n",
       "        }#T_5d9cf_row6_col3{\n",
       "            background-color:  #569dc8;\n",
       "            color:  #000000;\n",
       "        }#T_5d9cf_row6_col4{\n",
       "            background-color:  #8fb4d6;\n",
       "            color:  #000000;\n",
       "        }</style><table id=\"T_5d9cf_\" ><thead>    <tr>        <th class=\"blank level0\" ></th>        <th class=\"col_heading level0 col0\" >ANGKATAN</th>        <th class=\"col_heading level0 col1\" >IPK1</th>        <th class=\"col_heading level0 col2\" >IPK2</th>        <th class=\"col_heading level0 col3\" >IPK3</th>        <th class=\"col_heading level0 col4\" >IPK4</th>        <th class=\"col_heading level0 col5\" >MSTUDI</th>        <th class=\"col_heading level0 col6\" >STS</th>    </tr></thead><tbody>\n",
       "                <tr>\n",
       "                        <th id=\"T_5d9cf_level0_row0\" class=\"row_heading level0 row0\" >ANGKATAN</th>\n",
       "                        <td id=\"T_5d9cf_row0_col0\" class=\"data row0 col0\" >1.00</td>\n",
       "                        <td id=\"T_5d9cf_row0_col1\" class=\"data row0 col1\" >0.32</td>\n",
       "                        <td id=\"T_5d9cf_row0_col2\" class=\"data row0 col2\" >0.23</td>\n",
       "                        <td id=\"T_5d9cf_row0_col3\" class=\"data row0 col3\" >0.37</td>\n",
       "                        <td id=\"T_5d9cf_row0_col4\" class=\"data row0 col4\" >0.51</td>\n",
       "                        <td id=\"T_5d9cf_row0_col5\" class=\"data row0 col5\" >-0.29</td>\n",
       "                        <td id=\"T_5d9cf_row0_col6\" class=\"data row0 col6\" >0.19</td>\n",
       "            </tr>\n",
       "            <tr>\n",
       "                        <th id=\"T_5d9cf_level0_row1\" class=\"row_heading level0 row1\" >IPK1</th>\n",
       "                        <td id=\"T_5d9cf_row1_col0\" class=\"data row1 col0\" >0.32</td>\n",
       "                        <td id=\"T_5d9cf_row1_col1\" class=\"data row1 col1\" >1.00</td>\n",
       "                        <td id=\"T_5d9cf_row1_col2\" class=\"data row1 col2\" >0.61</td>\n",
       "                        <td id=\"T_5d9cf_row1_col3\" class=\"data row1 col3\" >0.59</td>\n",
       "                        <td id=\"T_5d9cf_row1_col4\" class=\"data row1 col4\" >0.39</td>\n",
       "                        <td id=\"T_5d9cf_row1_col5\" class=\"data row1 col5\" >-0.35</td>\n",
       "                        <td id=\"T_5d9cf_row1_col6\" class=\"data row1 col6\" >0.30</td>\n",
       "            </tr>\n",
       "            <tr>\n",
       "                        <th id=\"T_5d9cf_level0_row2\" class=\"row_heading level0 row2\" >IPK2</th>\n",
       "                        <td id=\"T_5d9cf_row2_col0\" class=\"data row2 col0\" >0.23</td>\n",
       "                        <td id=\"T_5d9cf_row2_col1\" class=\"data row2 col1\" >0.61</td>\n",
       "                        <td id=\"T_5d9cf_row2_col2\" class=\"data row2 col2\" >1.00</td>\n",
       "                        <td id=\"T_5d9cf_row2_col3\" class=\"data row2 col3\" >0.66</td>\n",
       "                        <td id=\"T_5d9cf_row2_col4\" class=\"data row2 col4\" >0.38</td>\n",
       "                        <td id=\"T_5d9cf_row2_col5\" class=\"data row2 col5\" >-0.40</td>\n",
       "                        <td id=\"T_5d9cf_row2_col6\" class=\"data row2 col6\" >0.32</td>\n",
       "            </tr>\n",
       "            <tr>\n",
       "                        <th id=\"T_5d9cf_level0_row3\" class=\"row_heading level0 row3\" >IPK3</th>\n",
       "                        <td id=\"T_5d9cf_row3_col0\" class=\"data row3 col0\" >0.37</td>\n",
       "                        <td id=\"T_5d9cf_row3_col1\" class=\"data row3 col1\" >0.59</td>\n",
       "                        <td id=\"T_5d9cf_row3_col2\" class=\"data row3 col2\" >0.66</td>\n",
       "                        <td id=\"T_5d9cf_row3_col3\" class=\"data row3 col3\" >1.00</td>\n",
       "                        <td id=\"T_5d9cf_row3_col4\" class=\"data row3 col4\" >0.57</td>\n",
       "                        <td id=\"T_5d9cf_row3_col5\" class=\"data row3 col5\" >-0.46</td>\n",
       "                        <td id=\"T_5d9cf_row3_col6\" class=\"data row3 col6\" >0.36</td>\n",
       "            </tr>\n",
       "            <tr>\n",
       "                        <th id=\"T_5d9cf_level0_row4\" class=\"row_heading level0 row4\" >IPK4</th>\n",
       "                        <td id=\"T_5d9cf_row4_col0\" class=\"data row4 col0\" >0.51</td>\n",
       "                        <td id=\"T_5d9cf_row4_col1\" class=\"data row4 col1\" >0.39</td>\n",
       "                        <td id=\"T_5d9cf_row4_col2\" class=\"data row4 col2\" >0.38</td>\n",
       "                        <td id=\"T_5d9cf_row4_col3\" class=\"data row4 col3\" >0.57</td>\n",
       "                        <td id=\"T_5d9cf_row4_col4\" class=\"data row4 col4\" >1.00</td>\n",
       "                        <td id=\"T_5d9cf_row4_col5\" class=\"data row4 col5\" >-0.34</td>\n",
       "                        <td id=\"T_5d9cf_row4_col6\" class=\"data row4 col6\" >0.24</td>\n",
       "            </tr>\n",
       "            <tr>\n",
       "                        <th id=\"T_5d9cf_level0_row5\" class=\"row_heading level0 row5\" >MSTUDI</th>\n",
       "                        <td id=\"T_5d9cf_row5_col0\" class=\"data row5 col0\" >-0.29</td>\n",
       "                        <td id=\"T_5d9cf_row5_col1\" class=\"data row5 col1\" >-0.35</td>\n",
       "                        <td id=\"T_5d9cf_row5_col2\" class=\"data row5 col2\" >-0.40</td>\n",
       "                        <td id=\"T_5d9cf_row5_col3\" class=\"data row5 col3\" >-0.46</td>\n",
       "                        <td id=\"T_5d9cf_row5_col4\" class=\"data row5 col4\" >-0.34</td>\n",
       "                        <td id=\"T_5d9cf_row5_col5\" class=\"data row5 col5\" >1.00</td>\n",
       "                        <td id=\"T_5d9cf_row5_col6\" class=\"data row5 col6\" >-0.65</td>\n",
       "            </tr>\n",
       "            <tr>\n",
       "                        <th id=\"T_5d9cf_level0_row6\" class=\"row_heading level0 row6\" >STS</th>\n",
       "                        <td id=\"T_5d9cf_row6_col0\" class=\"data row6 col0\" >0.19</td>\n",
       "                        <td id=\"T_5d9cf_row6_col1\" class=\"data row6 col1\" >0.30</td>\n",
       "                        <td id=\"T_5d9cf_row6_col2\" class=\"data row6 col2\" >0.32</td>\n",
       "                        <td id=\"T_5d9cf_row6_col3\" class=\"data row6 col3\" >0.36</td>\n",
       "                        <td id=\"T_5d9cf_row6_col4\" class=\"data row6 col4\" >0.24</td>\n",
       "                        <td id=\"T_5d9cf_row6_col5\" class=\"data row6 col5\" >-0.65</td>\n",
       "                        <td id=\"T_5d9cf_row6_col6\" class=\"data row6 col6\" >1.00</td>\n",
       "            </tr>\n",
       "    </tbody></table>"
      ],
      "text/plain": [
       "<pandas.io.formats.style.Styler at 0x7fcc96074650>"
      ]
     },
     "execution_count": 37,
     "metadata": {},
     "output_type": "execute_result"
    }
   ],
   "source": [
    "df_mhs.corr().style.background_gradient().set_precision(2)"
   ]
  },
  {
   "cell_type": "code",
   "execution_count": 38,
   "metadata": {},
   "outputs": [],
   "source": [
    "features = ['IPK1', 'IPK2', 'IPK3', 'IPK4']\n",
    "X = df_mhs[features]\n",
    "y = df_mhs['STATUS']"
   ]
  },
  {
   "cell_type": "code",
   "execution_count": 40,
   "metadata": {},
   "outputs": [],
   "source": [
    "from sklearn.model_selection import train_test_split"
   ]
  },
  {
   "cell_type": "code",
   "execution_count": 41,
   "metadata": {},
   "outputs": [],
   "source": [
    "X_train, X_test, y_train, y_test = train_test_split(X,y,test_size=0.3, random_state=42)"
   ]
  },
  {
   "cell_type": "code",
   "execution_count": 43,
   "metadata": {},
   "outputs": [
    {
     "name": "stdout",
     "output_type": "stream",
     "text": [
      "(2566, 4)\n",
      "(1101, 4)\n"
     ]
    }
   ],
   "source": [
    "print(X_train.shape)\n",
    "print(X_test.shape)"
   ]
  },
  {
   "cell_type": "code",
   "execution_count": null,
   "metadata": {},
   "outputs": [],
   "source": []
  },
  {
   "cell_type": "markdown",
   "metadata": {},
   "source": [
    "### 1. Naive Bayes"
   ]
  },
  {
   "cell_type": "code",
   "execution_count": 44,
   "metadata": {},
   "outputs": [
    {
     "data": {
      "text/plain": [
       "GaussianNB()"
      ]
     },
     "execution_count": 44,
     "metadata": {},
     "output_type": "execute_result"
    }
   ],
   "source": [
    "nb_mhs = GaussianNB()\n",
    "nb_mhs.fit(X_train, y_train)"
   ]
  },
  {
   "cell_type": "code",
   "execution_count": 45,
   "metadata": {},
   "outputs": [
    {
     "data": {
      "text/plain": [
       "0.6221616712079927"
      ]
     },
     "execution_count": 45,
     "metadata": {},
     "output_type": "execute_result"
    }
   ],
   "source": [
    "nb_mhs.score(X_test, y_test)"
   ]
  },
  {
   "cell_type": "code",
   "execution_count": 47,
   "metadata": {},
   "outputs": [
    {
     "data": {
      "text/plain": [
       "array(['TDK TEPAT', 'TEPAT'], dtype='<U9')"
      ]
     },
     "execution_count": 47,
     "metadata": {},
     "output_type": "execute_result"
    }
   ],
   "source": [
    "d2 = [[2.74, 3.1, 3.02, 2.65], [3.6, 3.2, 2.84, 3.32]]\n",
    "nb_mhs.predict(d2)"
   ]
  },
  {
   "cell_type": "markdown",
   "metadata": {},
   "source": [
    "### 2. Decision Tree"
   ]
  },
  {
   "cell_type": "code",
   "execution_count": 48,
   "metadata": {},
   "outputs": [],
   "source": [
    "from sklearn.tree import DecisionTreeClassifier"
   ]
  },
  {
   "cell_type": "code",
   "execution_count": 49,
   "metadata": {},
   "outputs": [
    {
     "data": {
      "text/plain": [
       "DecisionTreeClassifier()"
      ]
     },
     "execution_count": 49,
     "metadata": {},
     "output_type": "execute_result"
    }
   ],
   "source": [
    "dt_mhs = DecisionTreeClassifier()\n",
    "dt_mhs.fit(X_train, y_train)"
   ]
  },
  {
   "cell_type": "code",
   "execution_count": 50,
   "metadata": {},
   "outputs": [
    {
     "data": {
      "text/plain": [
       "0.5567665758401453"
      ]
     },
     "execution_count": 50,
     "metadata": {},
     "output_type": "execute_result"
    }
   ],
   "source": [
    "dt_mhs.score(X_test, y_test)"
   ]
  },
  {
   "cell_type": "code",
   "execution_count": 51,
   "metadata": {},
   "outputs": [
    {
     "data": {
      "text/plain": [
       "array(['TDK TEPAT', 'TDK TEPAT'], dtype=object)"
      ]
     },
     "execution_count": 51,
     "metadata": {},
     "output_type": "execute_result"
    }
   ],
   "source": [
    "dt_mhs.predict(d2)"
   ]
  },
  {
   "cell_type": "markdown",
   "metadata": {},
   "source": [
    "### 3. KNN"
   ]
  },
  {
   "cell_type": "code",
   "execution_count": 69,
   "metadata": {},
   "outputs": [
    {
     "data": {
      "text/plain": [
       "0.6630336058128974"
      ]
     },
     "execution_count": 69,
     "metadata": {},
     "output_type": "execute_result"
    }
   ],
   "source": [
    "knn_mhs = KNeighborsClassifier(n_neighbors = 27)\n",
    "knn_mhs.fit(X_train, y_train)\n",
    "knn_mhs.score(X_test, y_test)"
   ]
  },
  {
   "cell_type": "code",
   "execution_count": 70,
   "metadata": {},
   "outputs": [
    {
     "data": {
      "text/plain": [
       "array(['TDK TEPAT', 'TEPAT'], dtype=object)"
      ]
     },
     "execution_count": 70,
     "metadata": {},
     "output_type": "execute_result"
    }
   ],
   "source": [
    "knn_mhs.predict(d2)"
   ]
  },
  {
   "cell_type": "markdown",
   "metadata": {},
   "source": [
    "## Case: Bukalapak review text"
   ]
  },
  {
   "cell_type": "code",
   "execution_count": 71,
   "metadata": {},
   "outputs": [],
   "source": [
    "df_rev = pd.read_csv('review.csv')"
   ]
  },
  {
   "cell_type": "code",
   "execution_count": 76,
   "metadata": {},
   "outputs": [
    {
     "data": {
      "text/html": [
       "<div>\n",
       "<style scoped>\n",
       "    .dataframe tbody tr th:only-of-type {\n",
       "        vertical-align: middle;\n",
       "    }\n",
       "\n",
       "    .dataframe tbody tr th {\n",
       "        vertical-align: top;\n",
       "    }\n",
       "\n",
       "    .dataframe thead th {\n",
       "        text-align: right;\n",
       "    }\n",
       "</style>\n",
       "<table border=\"1\" class=\"dataframe\">\n",
       "  <thead>\n",
       "    <tr style=\"text-align: right;\">\n",
       "      <th></th>\n",
       "      <th>ID</th>\n",
       "      <th>Ulasan</th>\n",
       "      <th>Kelas</th>\n",
       "    </tr>\n",
       "  </thead>\n",
       "  <tbody>\n",
       "    <tr>\n",
       "      <th>0</th>\n",
       "      <td>1</td>\n",
       "      <td>belanja murah &amp; mudah say</td>\n",
       "      <td>Positif</td>\n",
       "    </tr>\n",
       "    <tr>\n",
       "      <th>1</th>\n",
       "      <td>2</td>\n",
       "      <td>belanja produk digital disini aja gaesss pulsa...</td>\n",
       "      <td>Positif</td>\n",
       "    </tr>\n",
       "    <tr>\n",
       "      <th>2</th>\n",
       "      <td>3</td>\n",
       "      <td>Sering belanja di bukalapak. Nyaman murah terp...</td>\n",
       "      <td>Positif</td>\n",
       "    </tr>\n",
       "    <tr>\n",
       "      <th>3</th>\n",
       "      <td>4</td>\n",
       "      <td>ecommerce yang mudah utk belanja</td>\n",
       "      <td>Positif</td>\n",
       "    </tr>\n",
       "    <tr>\n",
       "      <th>4</th>\n",
       "      <td>5</td>\n",
       "      <td>Sangat membantu hidup saya..  mudah2n bukalapa...</td>\n",
       "      <td>Positif</td>\n",
       "    </tr>\n",
       "    <tr>\n",
       "      <th>5</th>\n",
       "      <td>6</td>\n",
       "      <td>SEMAKIN BANYAK TEROBOSAN TEROBOSAN NYA BUKALAP...</td>\n",
       "      <td>Positif</td>\n",
       "    </tr>\n",
       "    <tr>\n",
       "      <th>6</th>\n",
       "      <td>7</td>\n",
       "      <td>85 % saya menggunakan aplikasi ini saat berbel...</td>\n",
       "      <td>Positif</td>\n",
       "    </tr>\n",
       "    <tr>\n",
       "      <th>7</th>\n",
       "      <td>8</td>\n",
       "      <td>Suka bangt Smoga lancar smuanya</td>\n",
       "      <td>Positif</td>\n",
       "    </tr>\n",
       "    <tr>\n",
       "      <th>8</th>\n",
       "      <td>9</td>\n",
       "      <td>Hendaknya diberi tahu jg persyaratan dan cara ...</td>\n",
       "      <td>Positif</td>\n",
       "    </tr>\n",
       "    <tr>\n",
       "      <th>9</th>\n",
       "      <td>10</td>\n",
       "      <td>Aplikasinya keren.paling responsive dibanding ...</td>\n",
       "      <td>Positif</td>\n",
       "    </tr>\n",
       "  </tbody>\n",
       "</table>\n",
       "</div>"
      ],
      "text/plain": [
       "   ID                                             Ulasan    Kelas\n",
       "0   1                          belanja murah & mudah say  Positif\n",
       "1   2  belanja produk digital disini aja gaesss pulsa...  Positif\n",
       "2   3  Sering belanja di bukalapak. Nyaman murah terp...  Positif\n",
       "3   4                   ecommerce yang mudah utk belanja  Positif\n",
       "4   5  Sangat membantu hidup saya..  mudah2n bukalapa...  Positif\n",
       "5   6  SEMAKIN BANYAK TEROBOSAN TEROBOSAN NYA BUKALAP...  Positif\n",
       "6   7  85 % saya menggunakan aplikasi ini saat berbel...  Positif\n",
       "7   8                    Suka bangt Smoga lancar smuanya  Positif\n",
       "8   9  Hendaknya diberi tahu jg persyaratan dan cara ...  Positif\n",
       "9  10  Aplikasinya keren.paling responsive dibanding ...  Positif"
      ]
     },
     "execution_count": 76,
     "metadata": {},
     "output_type": "execute_result"
    }
   ],
   "source": [
    "df_rev.head(10)"
   ]
  },
  {
   "cell_type": "code",
   "execution_count": 77,
   "metadata": {},
   "outputs": [
    {
     "data": {
      "text/plain": [
       "Positif    152\n",
       "Negatif    151\n",
       "Name: Kelas, dtype: int64"
      ]
     },
     "execution_count": 77,
     "metadata": {},
     "output_type": "execute_result"
    }
   ],
   "source": [
    "df_rev['Kelas'].value_counts()"
   ]
  },
  {
   "cell_type": "code",
   "execution_count": 78,
   "metadata": {},
   "outputs": [],
   "source": [
    "from sklearn.feature_extraction.text import TfidfVectorizer\n",
    "from Sastrawi.StopWordRemover.StopWordRemoverFactory import StopWordRemoverFactory\n",
    "from Sastrawi.Stemmer.StemmerFactory import StemmerFactory\n",
    "\n",
    "import re\n",
    "import random"
   ]
  },
  {
   "cell_type": "markdown",
   "metadata": {},
   "source": [
    "### Cleaning text"
   ]
  },
  {
   "cell_type": "code",
   "execution_count": 81,
   "metadata": {},
   "outputs": [],
   "source": [
    "clean_spcl = re.compile('[/(){}\\[\\]\\|@,;]')\n",
    "clean_symbol = re.compile('[^0-9a-z #+_]')\n",
    "sastrawi = StopWordRemoverFactory()\n",
    "stopword = sastrawi.get_stop_words()\n",
    "factory = StemmerFactory()\n",
    "stemmer = factory.create_stemmer()"
   ]
  },
  {
   "cell_type": "code",
   "execution_count": 82,
   "metadata": {},
   "outputs": [],
   "source": [
    "def clean_text(text):\n",
    "    text = text.lower()\n",
    "    text = clean_spcl.sub(' ', text)\n",
    "    text = clean_symbol.sub('', text)\n",
    "    text = stemmer.stem(text)\n",
    "    text = ' '.join(word for word in text.split() if word not in stopword)\n",
    "    \n",
    "    return text"
   ]
  },
  {
   "cell_type": "code",
   "execution_count": 83,
   "metadata": {},
   "outputs": [],
   "source": [
    "df_rev['Clean'] = df_rev['Ulasan'].apply(clean_text)"
   ]
  },
  {
   "cell_type": "code",
   "execution_count": 85,
   "metadata": {},
   "outputs": [
    {
     "data": {
      "text/html": [
       "<div>\n",
       "<style scoped>\n",
       "    .dataframe tbody tr th:only-of-type {\n",
       "        vertical-align: middle;\n",
       "    }\n",
       "\n",
       "    .dataframe tbody tr th {\n",
       "        vertical-align: top;\n",
       "    }\n",
       "\n",
       "    .dataframe thead th {\n",
       "        text-align: right;\n",
       "    }\n",
       "</style>\n",
       "<table border=\"1\" class=\"dataframe\">\n",
       "  <thead>\n",
       "    <tr style=\"text-align: right;\">\n",
       "      <th></th>\n",
       "      <th>ID</th>\n",
       "      <th>Ulasan</th>\n",
       "      <th>Kelas</th>\n",
       "      <th>Clean</th>\n",
       "    </tr>\n",
       "  </thead>\n",
       "  <tbody>\n",
       "    <tr>\n",
       "      <th>0</th>\n",
       "      <td>1</td>\n",
       "      <td>belanja murah &amp; mudah say</td>\n",
       "      <td>Positif</td>\n",
       "      <td>belanja murah mudah say</td>\n",
       "    </tr>\n",
       "    <tr>\n",
       "      <th>1</th>\n",
       "      <td>2</td>\n",
       "      <td>belanja produk digital disini aja gaesss pulsa...</td>\n",
       "      <td>Positif</td>\n",
       "      <td>belanja produk digital sini aja gaesss pulsa t...</td>\n",
       "    </tr>\n",
       "    <tr>\n",
       "      <th>2</th>\n",
       "      <td>3</td>\n",
       "      <td>Sering belanja di bukalapak. Nyaman murah terp...</td>\n",
       "      <td>Positif</td>\n",
       "      <td>sering belanja bukalapak nyaman murah percaya ...</td>\n",
       "    </tr>\n",
       "    <tr>\n",
       "      <th>3</th>\n",
       "      <td>4</td>\n",
       "      <td>ecommerce yang mudah utk belanja</td>\n",
       "      <td>Positif</td>\n",
       "      <td>ecommerce mudah utk belanja</td>\n",
       "    </tr>\n",
       "    <tr>\n",
       "      <th>4</th>\n",
       "      <td>5</td>\n",
       "      <td>Sangat membantu hidup saya..  mudah2n bukalapa...</td>\n",
       "      <td>Positif</td>\n",
       "      <td>sangat bantu hidup mudah2n bukalapak panjang u...</td>\n",
       "    </tr>\n",
       "  </tbody>\n",
       "</table>\n",
       "</div>"
      ],
      "text/plain": [
       "   ID                                             Ulasan    Kelas  \\\n",
       "0   1                          belanja murah & mudah say  Positif   \n",
       "1   2  belanja produk digital disini aja gaesss pulsa...  Positif   \n",
       "2   3  Sering belanja di bukalapak. Nyaman murah terp...  Positif   \n",
       "3   4                   ecommerce yang mudah utk belanja  Positif   \n",
       "4   5  Sangat membantu hidup saya..  mudah2n bukalapa...  Positif   \n",
       "\n",
       "                                               Clean  \n",
       "0                            belanja murah mudah say  \n",
       "1  belanja produk digital sini aja gaesss pulsa t...  \n",
       "2  sering belanja bukalapak nyaman murah percaya ...  \n",
       "3                        ecommerce mudah utk belanja  \n",
       "4  sangat bantu hidup mudah2n bukalapak panjang u...  "
      ]
     },
     "execution_count": 85,
     "metadata": {},
     "output_type": "execute_result"
    }
   ],
   "source": [
    "df_rev.head()"
   ]
  },
  {
   "cell_type": "code",
   "execution_count": 86,
   "metadata": {},
   "outputs": [],
   "source": [
    "tfidf = TfidfVectorizer(analyzer='word', ngram_range=(1,3), min_df=0)\n",
    "tf_count = tfidf.fit_transform(df_rev['Clean'])"
   ]
  },
  {
   "cell_type": "code",
   "execution_count": 89,
   "metadata": {},
   "outputs": [
    {
     "data": {
      "text/plain": [
       "<303x11283 sparse matrix of type '<class 'numpy.float64'>'\n",
       "\twith 15410 stored elements in Compressed Sparse Row format>"
      ]
     },
     "execution_count": 89,
     "metadata": {},
     "output_type": "execute_result"
    }
   ],
   "source": [
    "tf_count"
   ]
  },
  {
   "cell_type": "code",
   "execution_count": 90,
   "metadata": {},
   "outputs": [],
   "source": [
    "X_train, X_test, y_train, y_test = train_test_split(tf_count, df_rev['Kelas'], test_size=0.3, random_state=42)"
   ]
  },
  {
   "cell_type": "code",
   "execution_count": 91,
   "metadata": {},
   "outputs": [
    {
     "name": "stdout",
     "output_type": "stream",
     "text": [
      "(212, 11283)\n",
      "(91, 11283)\n"
     ]
    }
   ],
   "source": [
    "print(X_train.shape)\n",
    "print(X_test.shape)"
   ]
  },
  {
   "cell_type": "markdown",
   "metadata": {},
   "source": [
    "### 1. Naive Bayes"
   ]
  },
  {
   "cell_type": "code",
   "execution_count": 93,
   "metadata": {},
   "outputs": [
    {
     "data": {
      "text/plain": [
       "0.8351648351648352"
      ]
     },
     "execution_count": 93,
     "metadata": {},
     "output_type": "execute_result"
    }
   ],
   "source": [
    "nb_rev = GaussianNB()\n",
    "nb_rev.fit(X_train.toarray(), y_train)\n",
    "nb_rev.score(X_test.toarray(), y_test)"
   ]
  },
  {
   "cell_type": "code",
   "execution_count": 118,
   "metadata": {},
   "outputs": [
    {
     "data": {
      "text/plain": [
       "array(['Positif'], dtype='<U7')"
      ]
     },
     "execution_count": 118,
     "metadata": {},
     "output_type": "execute_result"
    }
   ],
   "source": [
    "rev1 = ['ga puas dengan layanan di BL']\n",
    "test = tfidf.transform(rev1)\n",
    "nb_rev.predict(test.toarray())"
   ]
  },
  {
   "cell_type": "markdown",
   "metadata": {},
   "source": [
    "### 2. Decision Tree"
   ]
  },
  {
   "cell_type": "code",
   "execution_count": 97,
   "metadata": {},
   "outputs": [
    {
     "data": {
      "text/plain": [
       "0.7912087912087912"
      ]
     },
     "execution_count": 97,
     "metadata": {},
     "output_type": "execute_result"
    }
   ],
   "source": [
    "dt_rev = DecisionTreeClassifier()\n",
    "dt_rev.fit(X_train.toarray(), y_train)\n",
    "dt_rev.score(X_test.toarray(), y_test)"
   ]
  },
  {
   "cell_type": "code",
   "execution_count": 119,
   "metadata": {},
   "outputs": [
    {
     "data": {
      "text/plain": [
       "array(['Negatif'], dtype=object)"
      ]
     },
     "execution_count": 119,
     "metadata": {},
     "output_type": "execute_result"
    }
   ],
   "source": [
    "test = tfidf.transform(rev1)\n",
    "dt_rev.predict(test.toarray())"
   ]
  },
  {
   "cell_type": "markdown",
   "metadata": {},
   "source": [
    "### 3. KNN"
   ]
  },
  {
   "cell_type": "code",
   "execution_count": 107,
   "metadata": {},
   "outputs": [
    {
     "data": {
      "text/plain": [
       "0.8241758241758241"
      ]
     },
     "execution_count": 107,
     "metadata": {},
     "output_type": "execute_result"
    }
   ],
   "source": [
    "knn_rev = KNeighborsClassifier(n_neighbors = 13)\n",
    "knn_rev.fit(X_train.toarray(), y_train)\n",
    "knn_rev.score(X_test.toarray(), y_test)"
   ]
  },
  {
   "cell_type": "code",
   "execution_count": 120,
   "metadata": {},
   "outputs": [
    {
     "data": {
      "text/plain": [
       "array(['Positif'], dtype=object)"
      ]
     },
     "execution_count": 120,
     "metadata": {},
     "output_type": "execute_result"
    }
   ],
   "source": [
    "test = tfidf.transform(rev1)\n",
    "knn_rev.predict(test.toarray())"
   ]
  },
  {
   "cell_type": "code",
   "execution_count": null,
   "metadata": {},
   "outputs": [],
   "source": []
  },
  {
   "cell_type": "code",
   "execution_count": null,
   "metadata": {},
   "outputs": [],
   "source": []
  }
 ],
 "metadata": {
  "kernelspec": {
   "display_name": "Python 3",
   "language": "python",
   "name": "python3"
  },
  "language_info": {
   "codemirror_mode": {
    "name": "ipython",
    "version": 3
   },
   "file_extension": ".py",
   "mimetype": "text/x-python",
   "name": "python",
   "nbconvert_exporter": "python",
   "pygments_lexer": "ipython3",
   "version": "3.7.6"
  }
 },
 "nbformat": 4,
 "nbformat_minor": 4
}
