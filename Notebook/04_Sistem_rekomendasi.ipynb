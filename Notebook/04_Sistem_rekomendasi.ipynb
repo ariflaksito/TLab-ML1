{
 "cells": [
  {
   "cell_type": "markdown",
   "metadata": {},
   "source": [
    "# Sistem Rekomendasi"
   ]
  },
  {
   "cell_type": "code",
   "execution_count": 1,
   "metadata": {},
   "outputs": [],
   "source": [
    "import pandas as pd"
   ]
  },
  {
   "cell_type": "code",
   "execution_count": 10,
   "metadata": {},
   "outputs": [],
   "source": [
    "df = pd.read_excel('data_hotel.xlsx')"
   ]
  },
  {
   "cell_type": "code",
   "execution_count": 11,
   "metadata": {},
   "outputs": [
    {
     "data": {
      "text/html": [
       "<div>\n",
       "<style scoped>\n",
       "    .dataframe tbody tr th:only-of-type {\n",
       "        vertical-align: middle;\n",
       "    }\n",
       "\n",
       "    .dataframe tbody tr th {\n",
       "        vertical-align: top;\n",
       "    }\n",
       "\n",
       "    .dataframe thead th {\n",
       "        text-align: right;\n",
       "    }\n",
       "</style>\n",
       "<table border=\"1\" class=\"dataframe\">\n",
       "  <thead>\n",
       "    <tr style=\"text-align: right;\">\n",
       "      <th></th>\n",
       "      <th>hotel_id</th>\n",
       "      <th>hotel_name</th>\n",
       "      <th>hotel_description</th>\n",
       "      <th>hotel_province</th>\n",
       "      <th>hotel_city</th>\n",
       "      <th>hotel_address</th>\n",
       "      <th>price_per_night</th>\n",
       "    </tr>\n",
       "  </thead>\n",
       "  <tbody>\n",
       "    <tr>\n",
       "      <th>0</th>\n",
       "      <td>h0001</td>\n",
       "      <td>Midtown Residence Marvell City Surabaya</td>\n",
       "      <td>NaN</td>\n",
       "      <td>Jawa Timur</td>\n",
       "      <td>Surabaya</td>\n",
       "      <td>Jalan Ngagel Raya No 123</td>\n",
       "      <td>527866.666667</td>\n",
       "    </tr>\n",
       "    <tr>\n",
       "      <th>1</th>\n",
       "      <td>h0002</td>\n",
       "      <td>favehotel Graha Agung Surabaya</td>\n",
       "      <td>Sebuah Hotel Mewah di Surabaya Persembahan dar...</td>\n",
       "      <td>Jawa Timur</td>\n",
       "      <td>Surabaya</td>\n",
       "      <td>Jl. Mayjen Yono Soewoyo Pakuwon Indah Square A...</td>\n",
       "      <td>442860.000000</td>\n",
       "    </tr>\n",
       "    <tr>\n",
       "      <th>2</th>\n",
       "      <td>h0003</td>\n",
       "      <td>The Sun Hotel Sidoarjo</td>\n",
       "      <td>Hotel Bintang 3 Pertama dan Satu-satunya di Si...</td>\n",
       "      <td>Jawa Timur</td>\n",
       "      <td>Surabaya</td>\n",
       "      <td>Jl. Pahlawan No.1,Sidokumpul, Sidoarjo, Suraba...</td>\n",
       "      <td>305000.000000</td>\n",
       "    </tr>\n",
       "    <tr>\n",
       "      <th>3</th>\n",
       "      <td>h0004</td>\n",
       "      <td>Grand Surabaya Hotel</td>\n",
       "      <td>Penginapan Yang Tenang Dan Nyaman Di Surabaya.</td>\n",
       "      <td>Jawa Timur</td>\n",
       "      <td>Surabaya</td>\n",
       "      <td>Jl. Pemuda 19-21, Surabaya, Indonesia</td>\n",
       "      <td>324999.333333</td>\n",
       "    </tr>\n",
       "    <tr>\n",
       "      <th>4</th>\n",
       "      <td>h0005</td>\n",
       "      <td>The WIN Hotel Surabaya</td>\n",
       "      <td>WIN Hotel adalah hotel smart bintang 3 yang me...</td>\n",
       "      <td>Jawa Timur</td>\n",
       "      <td>Surabaya</td>\n",
       "      <td>Jl. Embong Tanjung 46 - 48 Surabaya, Jawa Timu...</td>\n",
       "      <td>310947.250000</td>\n",
       "    </tr>\n",
       "  </tbody>\n",
       "</table>\n",
       "</div>"
      ],
      "text/plain": [
       "  hotel_id                               hotel_name  \\\n",
       "0    h0001  Midtown Residence Marvell City Surabaya   \n",
       "1    h0002           favehotel Graha Agung Surabaya   \n",
       "2    h0003                   The Sun Hotel Sidoarjo   \n",
       "3    h0004                     Grand Surabaya Hotel   \n",
       "4    h0005                   The WIN Hotel Surabaya   \n",
       "\n",
       "                                   hotel_description hotel_province  \\\n",
       "0                                                NaN     Jawa Timur   \n",
       "1  Sebuah Hotel Mewah di Surabaya Persembahan dar...     Jawa Timur   \n",
       "2  Hotel Bintang 3 Pertama dan Satu-satunya di Si...     Jawa Timur   \n",
       "3     Penginapan Yang Tenang Dan Nyaman Di Surabaya.     Jawa Timur   \n",
       "4  WIN Hotel adalah hotel smart bintang 3 yang me...     Jawa Timur   \n",
       "\n",
       "  hotel_city                                      hotel_address  \\\n",
       "0   Surabaya                           Jalan Ngagel Raya No 123   \n",
       "1   Surabaya  Jl. Mayjen Yono Soewoyo Pakuwon Indah Square A...   \n",
       "2   Surabaya  Jl. Pahlawan No.1,Sidokumpul, Sidoarjo, Suraba...   \n",
       "3   Surabaya              Jl. Pemuda 19-21, Surabaya, Indonesia   \n",
       "4   Surabaya  Jl. Embong Tanjung 46 - 48 Surabaya, Jawa Timu...   \n",
       "\n",
       "   price_per_night  \n",
       "0    527866.666667  \n",
       "1    442860.000000  \n",
       "2    305000.000000  \n",
       "3    324999.333333  \n",
       "4    310947.250000  "
      ]
     },
     "execution_count": 11,
     "metadata": {},
     "output_type": "execute_result"
    }
   ],
   "source": [
    "df.head()"
   ]
  },
  {
   "cell_type": "code",
   "execution_count": 4,
   "metadata": {},
   "outputs": [
    {
     "data": {
      "text/plain": [
       "(1199, 7)"
      ]
     },
     "execution_count": 4,
     "metadata": {},
     "output_type": "execute_result"
    }
   ],
   "source": [
    "df.shape"
   ]
  },
  {
   "cell_type": "code",
   "execution_count": 12,
   "metadata": {},
   "outputs": [
    {
     "data": {
      "text/plain": [
       "hotel_id               0\n",
       "hotel_name             0\n",
       "hotel_description    101\n",
       "hotel_province         0\n",
       "hotel_city             0\n",
       "hotel_address          0\n",
       "price_per_night        6\n",
       "dtype: int64"
      ]
     },
     "execution_count": 12,
     "metadata": {},
     "output_type": "execute_result"
    }
   ],
   "source": [
    "df.isnull().sum()"
   ]
  },
  {
   "cell_type": "code",
   "execution_count": 13,
   "metadata": {},
   "outputs": [],
   "source": [
    "df = df[df['hotel_description'].notnull()]"
   ]
  },
  {
   "cell_type": "code",
   "execution_count": 14,
   "metadata": {},
   "outputs": [
    {
     "data": {
      "text/plain": [
       "(1098, 7)"
      ]
     },
     "execution_count": 14,
     "metadata": {},
     "output_type": "execute_result"
    }
   ],
   "source": [
    "df.shape"
   ]
  },
  {
   "cell_type": "code",
   "execution_count": 15,
   "metadata": {},
   "outputs": [],
   "source": [
    "from sklearn.metrics.pairwise import cosine_similarity\n",
    "\n",
    "from sklearn.feature_extraction.text import TfidfVectorizer\n",
    "from Sastrawi.StopWordRemover.StopWordRemoverFactory import StopWordRemoverFactory\n",
    "from Sastrawi.Stemmer.StemmerFactory import StemmerFactory\n",
    "\n",
    "import re\n",
    "import random"
   ]
  },
  {
   "cell_type": "code",
   "execution_count": 16,
   "metadata": {},
   "outputs": [],
   "source": [
    "clean_spcl = re.compile('[/(){}\\[\\]\\|@,;]')\n",
    "clean_symbol = re.compile('[^0-9a-z #+_]')\n",
    "sastrawi = StopWordRemoverFactory()\n",
    "stopword = sastrawi.get_stop_words()\n",
    "factory = StemmerFactory()\n",
    "stemmer = factory.create_stemmer()"
   ]
  },
  {
   "cell_type": "code",
   "execution_count": 17,
   "metadata": {},
   "outputs": [],
   "source": [
    "def clean_text(text):\n",
    "    text = text.lower()\n",
    "    text = clean_spcl.sub(' ', text)\n",
    "    text = clean_symbol.sub('', text)\n",
    "    text = stemmer.stem(text)\n",
    "    text = ' '.join(word for word in text.split() if word not in stopword)\n",
    "    \n",
    "    return text"
   ]
  },
  {
   "cell_type": "code",
   "execution_count": 18,
   "metadata": {},
   "outputs": [],
   "source": [
    "df['desc'] = df['hotel_description'].apply(clean_text)"
   ]
  },
  {
   "cell_type": "code",
   "execution_count": 19,
   "metadata": {},
   "outputs": [
    {
     "data": {
      "text/html": [
       "<div>\n",
       "<style scoped>\n",
       "    .dataframe tbody tr th:only-of-type {\n",
       "        vertical-align: middle;\n",
       "    }\n",
       "\n",
       "    .dataframe tbody tr th {\n",
       "        vertical-align: top;\n",
       "    }\n",
       "\n",
       "    .dataframe thead th {\n",
       "        text-align: right;\n",
       "    }\n",
       "</style>\n",
       "<table border=\"1\" class=\"dataframe\">\n",
       "  <thead>\n",
       "    <tr style=\"text-align: right;\">\n",
       "      <th></th>\n",
       "      <th>hotel_id</th>\n",
       "      <th>hotel_name</th>\n",
       "      <th>hotel_description</th>\n",
       "      <th>hotel_province</th>\n",
       "      <th>hotel_city</th>\n",
       "      <th>hotel_address</th>\n",
       "      <th>price_per_night</th>\n",
       "      <th>desc</th>\n",
       "    </tr>\n",
       "  </thead>\n",
       "  <tbody>\n",
       "    <tr>\n",
       "      <th>1</th>\n",
       "      <td>h0002</td>\n",
       "      <td>favehotel Graha Agung Surabaya</td>\n",
       "      <td>Sebuah Hotel Mewah di Surabaya Persembahan dar...</td>\n",
       "      <td>Jawa Timur</td>\n",
       "      <td>Surabaya</td>\n",
       "      <td>Jl. Mayjen Yono Soewoyo Pakuwon Indah Square A...</td>\n",
       "      <td>442860.000000</td>\n",
       "      <td>buah hotel mewah surabaya sembah archipelago i...</td>\n",
       "    </tr>\n",
       "    <tr>\n",
       "      <th>2</th>\n",
       "      <td>h0003</td>\n",
       "      <td>The Sun Hotel Sidoarjo</td>\n",
       "      <td>Hotel Bintang 3 Pertama dan Satu-satunya di Si...</td>\n",
       "      <td>Jawa Timur</td>\n",
       "      <td>Surabaya</td>\n",
       "      <td>Jl. Pahlawan No.1,Sidokumpul, Sidoarjo, Suraba...</td>\n",
       "      <td>305000.000000</td>\n",
       "      <td>hotel bintang 3 pertama satusatunya sidoarjo</td>\n",
       "    </tr>\n",
       "    <tr>\n",
       "      <th>3</th>\n",
       "      <td>h0004</td>\n",
       "      <td>Grand Surabaya Hotel</td>\n",
       "      <td>Penginapan Yang Tenang Dan Nyaman Di Surabaya.</td>\n",
       "      <td>Jawa Timur</td>\n",
       "      <td>Surabaya</td>\n",
       "      <td>Jl. Pemuda 19-21, Surabaya, Indonesia</td>\n",
       "      <td>324999.333333</td>\n",
       "      <td>inap tenang nyaman surabaya</td>\n",
       "    </tr>\n",
       "    <tr>\n",
       "      <th>4</th>\n",
       "      <td>h0005</td>\n",
       "      <td>The WIN Hotel Surabaya</td>\n",
       "      <td>WIN Hotel adalah hotel smart bintang 3 yang me...</td>\n",
       "      <td>Jawa Timur</td>\n",
       "      <td>Surabaya</td>\n",
       "      <td>Jl. Embong Tanjung 46 - 48 Surabaya, Jawa Timu...</td>\n",
       "      <td>310947.250000</td>\n",
       "      <td>win hotel hotel smart bintang 3 tawar layan tu...</td>\n",
       "    </tr>\n",
       "    <tr>\n",
       "      <th>5</th>\n",
       "      <td>h0006</td>\n",
       "      <td>POP! Hotel Stasiun Kota Surabaya</td>\n",
       "      <td>Sebuah Hotel Modern yang Terjangkau di Jawa Timur</td>\n",
       "      <td>Jawa Timur</td>\n",
       "      <td>Surabaya</td>\n",
       "      <td>Jl. Waspada No.58, Surabaya, Jawa Timur, Indon...</td>\n",
       "      <td>276333.333333</td>\n",
       "      <td>buah hotel modern jangkau jawa timur</td>\n",
       "    </tr>\n",
       "  </tbody>\n",
       "</table>\n",
       "</div>"
      ],
      "text/plain": [
       "  hotel_id                        hotel_name  \\\n",
       "1    h0002    favehotel Graha Agung Surabaya   \n",
       "2    h0003            The Sun Hotel Sidoarjo   \n",
       "3    h0004              Grand Surabaya Hotel   \n",
       "4    h0005            The WIN Hotel Surabaya   \n",
       "5    h0006  POP! Hotel Stasiun Kota Surabaya   \n",
       "\n",
       "                                   hotel_description hotel_province  \\\n",
       "1  Sebuah Hotel Mewah di Surabaya Persembahan dar...     Jawa Timur   \n",
       "2  Hotel Bintang 3 Pertama dan Satu-satunya di Si...     Jawa Timur   \n",
       "3     Penginapan Yang Tenang Dan Nyaman Di Surabaya.     Jawa Timur   \n",
       "4  WIN Hotel adalah hotel smart bintang 3 yang me...     Jawa Timur   \n",
       "5  Sebuah Hotel Modern yang Terjangkau di Jawa Timur     Jawa Timur   \n",
       "\n",
       "  hotel_city                                      hotel_address  \\\n",
       "1   Surabaya  Jl. Mayjen Yono Soewoyo Pakuwon Indah Square A...   \n",
       "2   Surabaya  Jl. Pahlawan No.1,Sidokumpul, Sidoarjo, Suraba...   \n",
       "3   Surabaya              Jl. Pemuda 19-21, Surabaya, Indonesia   \n",
       "4   Surabaya  Jl. Embong Tanjung 46 - 48 Surabaya, Jawa Timu...   \n",
       "5   Surabaya  Jl. Waspada No.58, Surabaya, Jawa Timur, Indon...   \n",
       "\n",
       "   price_per_night                                               desc  \n",
       "1    442860.000000  buah hotel mewah surabaya sembah archipelago i...  \n",
       "2    305000.000000       hotel bintang 3 pertama satusatunya sidoarjo  \n",
       "3    324999.333333                        inap tenang nyaman surabaya  \n",
       "4    310947.250000  win hotel hotel smart bintang 3 tawar layan tu...  \n",
       "5    276333.333333               buah hotel modern jangkau jawa timur  "
      ]
     },
     "execution_count": 19,
     "metadata": {},
     "output_type": "execute_result"
    }
   ],
   "source": [
    "df.head()"
   ]
  },
  {
   "cell_type": "code",
   "execution_count": 20,
   "metadata": {},
   "outputs": [],
   "source": [
    "df.set_index('hotel_name', inplace=True)"
   ]
  },
  {
   "cell_type": "code",
   "execution_count": 21,
   "metadata": {},
   "outputs": [
    {
     "data": {
      "text/html": [
       "<div>\n",
       "<style scoped>\n",
       "    .dataframe tbody tr th:only-of-type {\n",
       "        vertical-align: middle;\n",
       "    }\n",
       "\n",
       "    .dataframe tbody tr th {\n",
       "        vertical-align: top;\n",
       "    }\n",
       "\n",
       "    .dataframe thead th {\n",
       "        text-align: right;\n",
       "    }\n",
       "</style>\n",
       "<table border=\"1\" class=\"dataframe\">\n",
       "  <thead>\n",
       "    <tr style=\"text-align: right;\">\n",
       "      <th></th>\n",
       "      <th>hotel_id</th>\n",
       "      <th>hotel_description</th>\n",
       "      <th>hotel_province</th>\n",
       "      <th>hotel_city</th>\n",
       "      <th>hotel_address</th>\n",
       "      <th>price_per_night</th>\n",
       "      <th>desc</th>\n",
       "    </tr>\n",
       "    <tr>\n",
       "      <th>hotel_name</th>\n",
       "      <th></th>\n",
       "      <th></th>\n",
       "      <th></th>\n",
       "      <th></th>\n",
       "      <th></th>\n",
       "      <th></th>\n",
       "      <th></th>\n",
       "    </tr>\n",
       "  </thead>\n",
       "  <tbody>\n",
       "    <tr>\n",
       "      <th>favehotel Graha Agung Surabaya</th>\n",
       "      <td>h0002</td>\n",
       "      <td>Sebuah Hotel Mewah di Surabaya Persembahan dar...</td>\n",
       "      <td>Jawa Timur</td>\n",
       "      <td>Surabaya</td>\n",
       "      <td>Jl. Mayjen Yono Soewoyo Pakuwon Indah Square A...</td>\n",
       "      <td>442860.000000</td>\n",
       "      <td>buah hotel mewah surabaya sembah archipelago i...</td>\n",
       "    </tr>\n",
       "    <tr>\n",
       "      <th>The Sun Hotel Sidoarjo</th>\n",
       "      <td>h0003</td>\n",
       "      <td>Hotel Bintang 3 Pertama dan Satu-satunya di Si...</td>\n",
       "      <td>Jawa Timur</td>\n",
       "      <td>Surabaya</td>\n",
       "      <td>Jl. Pahlawan No.1,Sidokumpul, Sidoarjo, Suraba...</td>\n",
       "      <td>305000.000000</td>\n",
       "      <td>hotel bintang 3 pertama satusatunya sidoarjo</td>\n",
       "    </tr>\n",
       "    <tr>\n",
       "      <th>Grand Surabaya Hotel</th>\n",
       "      <td>h0004</td>\n",
       "      <td>Penginapan Yang Tenang Dan Nyaman Di Surabaya.</td>\n",
       "      <td>Jawa Timur</td>\n",
       "      <td>Surabaya</td>\n",
       "      <td>Jl. Pemuda 19-21, Surabaya, Indonesia</td>\n",
       "      <td>324999.333333</td>\n",
       "      <td>inap tenang nyaman surabaya</td>\n",
       "    </tr>\n",
       "    <tr>\n",
       "      <th>The WIN Hotel Surabaya</th>\n",
       "      <td>h0005</td>\n",
       "      <td>WIN Hotel adalah hotel smart bintang 3 yang me...</td>\n",
       "      <td>Jawa Timur</td>\n",
       "      <td>Surabaya</td>\n",
       "      <td>Jl. Embong Tanjung 46 - 48 Surabaya, Jawa Timu...</td>\n",
       "      <td>310947.250000</td>\n",
       "      <td>win hotel hotel smart bintang 3 tawar layan tu...</td>\n",
       "    </tr>\n",
       "    <tr>\n",
       "      <th>POP! Hotel Stasiun Kota Surabaya</th>\n",
       "      <td>h0006</td>\n",
       "      <td>Sebuah Hotel Modern yang Terjangkau di Jawa Timur</td>\n",
       "      <td>Jawa Timur</td>\n",
       "      <td>Surabaya</td>\n",
       "      <td>Jl. Waspada No.58, Surabaya, Jawa Timur, Indon...</td>\n",
       "      <td>276333.333333</td>\n",
       "      <td>buah hotel modern jangkau jawa timur</td>\n",
       "    </tr>\n",
       "  </tbody>\n",
       "</table>\n",
       "</div>"
      ],
      "text/plain": [
       "                                 hotel_id  \\\n",
       "hotel_name                                  \n",
       "favehotel Graha Agung Surabaya      h0002   \n",
       "The Sun Hotel Sidoarjo              h0003   \n",
       "Grand Surabaya Hotel                h0004   \n",
       "The WIN Hotel Surabaya              h0005   \n",
       "POP! Hotel Stasiun Kota Surabaya    h0006   \n",
       "\n",
       "                                                                  hotel_description  \\\n",
       "hotel_name                                                                            \n",
       "favehotel Graha Agung Surabaya    Sebuah Hotel Mewah di Surabaya Persembahan dar...   \n",
       "The Sun Hotel Sidoarjo            Hotel Bintang 3 Pertama dan Satu-satunya di Si...   \n",
       "Grand Surabaya Hotel                 Penginapan Yang Tenang Dan Nyaman Di Surabaya.   \n",
       "The WIN Hotel Surabaya            WIN Hotel adalah hotel smart bintang 3 yang me...   \n",
       "POP! Hotel Stasiun Kota Surabaya  Sebuah Hotel Modern yang Terjangkau di Jawa Timur   \n",
       "\n",
       "                                 hotel_province hotel_city  \\\n",
       "hotel_name                                                   \n",
       "favehotel Graha Agung Surabaya       Jawa Timur   Surabaya   \n",
       "The Sun Hotel Sidoarjo               Jawa Timur   Surabaya   \n",
       "Grand Surabaya Hotel                 Jawa Timur   Surabaya   \n",
       "The WIN Hotel Surabaya               Jawa Timur   Surabaya   \n",
       "POP! Hotel Stasiun Kota Surabaya     Jawa Timur   Surabaya   \n",
       "\n",
       "                                                                      hotel_address  \\\n",
       "hotel_name                                                                            \n",
       "favehotel Graha Agung Surabaya    Jl. Mayjen Yono Soewoyo Pakuwon Indah Square A...   \n",
       "The Sun Hotel Sidoarjo            Jl. Pahlawan No.1,Sidokumpul, Sidoarjo, Suraba...   \n",
       "Grand Surabaya Hotel                          Jl. Pemuda 19-21, Surabaya, Indonesia   \n",
       "The WIN Hotel Surabaya            Jl. Embong Tanjung 46 - 48 Surabaya, Jawa Timu...   \n",
       "POP! Hotel Stasiun Kota Surabaya  Jl. Waspada No.58, Surabaya, Jawa Timur, Indon...   \n",
       "\n",
       "                                  price_per_night  \\\n",
       "hotel_name                                          \n",
       "favehotel Graha Agung Surabaya      442860.000000   \n",
       "The Sun Hotel Sidoarjo              305000.000000   \n",
       "Grand Surabaya Hotel                324999.333333   \n",
       "The WIN Hotel Surabaya              310947.250000   \n",
       "POP! Hotel Stasiun Kota Surabaya    276333.333333   \n",
       "\n",
       "                                                                               desc  \n",
       "hotel_name                                                                           \n",
       "favehotel Graha Agung Surabaya    buah hotel mewah surabaya sembah archipelago i...  \n",
       "The Sun Hotel Sidoarjo                 hotel bintang 3 pertama satusatunya sidoarjo  \n",
       "Grand Surabaya Hotel                                    inap tenang nyaman surabaya  \n",
       "The WIN Hotel Surabaya            win hotel hotel smart bintang 3 tawar layan tu...  \n",
       "POP! Hotel Stasiun Kota Surabaya               buah hotel modern jangkau jawa timur  "
      ]
     },
     "execution_count": 21,
     "metadata": {},
     "output_type": "execute_result"
    }
   ],
   "source": [
    "df.head()"
   ]
  },
  {
   "cell_type": "code",
   "execution_count": 23,
   "metadata": {},
   "outputs": [],
   "source": [
    "tf = TfidfVectorizer(analyzer='word', ngram_range=(1,3), min_df=0)\n",
    "tfidf = tf.fit_transform(df['desc'])\n",
    "cos_sim = cosine_similarity(tfidf, tfidf)"
   ]
  },
  {
   "cell_type": "code",
   "execution_count": 24,
   "metadata": {},
   "outputs": [],
   "source": [
    "indices = pd.Series(df.index)"
   ]
  },
  {
   "cell_type": "code",
   "execution_count": 25,
   "metadata": {},
   "outputs": [
    {
     "data": {
      "text/plain": [
       "0            favehotel Graha Agung Surabaya\n",
       "1                    The Sun Hotel Sidoarjo\n",
       "2                      Grand Surabaya Hotel\n",
       "3                    The WIN Hotel Surabaya\n",
       "4          POP! Hotel Stasiun Kota Surabaya\n",
       "                       ...                 \n",
       "1093                 Restu Hotel Yogyakarta\n",
       "1094                  Oryza Hotel Malioboro\n",
       "1095            Hotel Asri Graha Yogyakarta\n",
       "1096    Tasneem Convention Hotel Yogyakarta\n",
       "1097          Pesonna Hotel Tugu Yogyakarta\n",
       "Name: hotel_name, Length: 1098, dtype: object"
      ]
     },
     "execution_count": 25,
     "metadata": {},
     "output_type": "execute_result"
    }
   ],
   "source": [
    "indices"
   ]
  },
  {
   "cell_type": "code",
   "execution_count": 31,
   "metadata": {},
   "outputs": [],
   "source": [
    "def rekomendasi(hotel, top=10):\n",
    "    recommended_hotel = []\n",
    "    \n",
    "    idx = indices[indices == hotel].index[0]\n",
    "    score = pd.Series(cos_sim[idx]).sort_values(ascending=False)\n",
    "    \n",
    "    top = top+1\n",
    "    top_index = list(score.iloc[0:top].index)\n",
    "    \n",
    "    for i in top_index:\n",
    "        recommended_hotel.append(list(df.index)[i]+\" - \"+str(score[i]))\n",
    "        \n",
    "    return recommended_hotel"
   ]
  },
  {
   "cell_type": "code",
   "execution_count": 32,
   "metadata": {},
   "outputs": [
    {
     "data": {
      "text/plain": [
       "['Gunawangsa Manyar Hotel - 1.0000000000000002',\n",
       " 'Midtown Hotel Surabaya - 0.17992312860891296',\n",
       " 'Aria Gajayana Hotel - 0.14461427726403756',\n",
       " 'GP Mega Kuningan Hotel - 0.12367390420720603',\n",
       " 'Le Polonia Medan managed by Topotels - 0.12049561758006845',\n",
       " 'Swiss-Belinn Manyar Surabaya - 0.11731929279752672']"
      ]
     },
     "execution_count": 32,
     "metadata": {},
     "output_type": "execute_result"
    }
   ],
   "source": [
    "rekomendasi('Gunawangsa Manyar Hotel', 5)"
   ]
  },
  {
   "cell_type": "markdown",
   "metadata": {},
   "source": [
    "## Improvisasi Sistem rekomendasi"
   ]
  },
  {
   "cell_type": "code",
   "execution_count": 33,
   "metadata": {},
   "outputs": [],
   "source": [
    "df['price_bin'] = pd.cut(df['price_per_night'], bins=3, labels=['low','medium','high'])"
   ]
  },
  {
   "cell_type": "code",
   "execution_count": 34,
   "metadata": {},
   "outputs": [
    {
     "data": {
      "text/html": [
       "<div>\n",
       "<style scoped>\n",
       "    .dataframe tbody tr th:only-of-type {\n",
       "        vertical-align: middle;\n",
       "    }\n",
       "\n",
       "    .dataframe tbody tr th {\n",
       "        vertical-align: top;\n",
       "    }\n",
       "\n",
       "    .dataframe thead th {\n",
       "        text-align: right;\n",
       "    }\n",
       "</style>\n",
       "<table border=\"1\" class=\"dataframe\">\n",
       "  <thead>\n",
       "    <tr style=\"text-align: right;\">\n",
       "      <th></th>\n",
       "      <th>hotel_id</th>\n",
       "      <th>hotel_description</th>\n",
       "      <th>hotel_province</th>\n",
       "      <th>hotel_city</th>\n",
       "      <th>hotel_address</th>\n",
       "      <th>price_per_night</th>\n",
       "      <th>desc</th>\n",
       "      <th>price_bin</th>\n",
       "    </tr>\n",
       "    <tr>\n",
       "      <th>hotel_name</th>\n",
       "      <th></th>\n",
       "      <th></th>\n",
       "      <th></th>\n",
       "      <th></th>\n",
       "      <th></th>\n",
       "      <th></th>\n",
       "      <th></th>\n",
       "      <th></th>\n",
       "    </tr>\n",
       "  </thead>\n",
       "  <tbody>\n",
       "    <tr>\n",
       "      <th>favehotel Graha Agung Surabaya</th>\n",
       "      <td>h0002</td>\n",
       "      <td>Sebuah Hotel Mewah di Surabaya Persembahan dar...</td>\n",
       "      <td>Jawa Timur</td>\n",
       "      <td>Surabaya</td>\n",
       "      <td>Jl. Mayjen Yono Soewoyo Pakuwon Indah Square A...</td>\n",
       "      <td>442860.000000</td>\n",
       "      <td>buah hotel mewah surabaya sembah archipelago i...</td>\n",
       "      <td>low</td>\n",
       "    </tr>\n",
       "    <tr>\n",
       "      <th>The Sun Hotel Sidoarjo</th>\n",
       "      <td>h0003</td>\n",
       "      <td>Hotel Bintang 3 Pertama dan Satu-satunya di Si...</td>\n",
       "      <td>Jawa Timur</td>\n",
       "      <td>Surabaya</td>\n",
       "      <td>Jl. Pahlawan No.1,Sidokumpul, Sidoarjo, Suraba...</td>\n",
       "      <td>305000.000000</td>\n",
       "      <td>hotel bintang 3 pertama satusatunya sidoarjo</td>\n",
       "      <td>low</td>\n",
       "    </tr>\n",
       "    <tr>\n",
       "      <th>Grand Surabaya Hotel</th>\n",
       "      <td>h0004</td>\n",
       "      <td>Penginapan Yang Tenang Dan Nyaman Di Surabaya.</td>\n",
       "      <td>Jawa Timur</td>\n",
       "      <td>Surabaya</td>\n",
       "      <td>Jl. Pemuda 19-21, Surabaya, Indonesia</td>\n",
       "      <td>324999.333333</td>\n",
       "      <td>inap tenang nyaman surabaya</td>\n",
       "      <td>low</td>\n",
       "    </tr>\n",
       "    <tr>\n",
       "      <th>The WIN Hotel Surabaya</th>\n",
       "      <td>h0005</td>\n",
       "      <td>WIN Hotel adalah hotel smart bintang 3 yang me...</td>\n",
       "      <td>Jawa Timur</td>\n",
       "      <td>Surabaya</td>\n",
       "      <td>Jl. Embong Tanjung 46 - 48 Surabaya, Jawa Timu...</td>\n",
       "      <td>310947.250000</td>\n",
       "      <td>win hotel hotel smart bintang 3 tawar layan tu...</td>\n",
       "      <td>low</td>\n",
       "    </tr>\n",
       "    <tr>\n",
       "      <th>POP! Hotel Stasiun Kota Surabaya</th>\n",
       "      <td>h0006</td>\n",
       "      <td>Sebuah Hotel Modern yang Terjangkau di Jawa Timur</td>\n",
       "      <td>Jawa Timur</td>\n",
       "      <td>Surabaya</td>\n",
       "      <td>Jl. Waspada No.58, Surabaya, Jawa Timur, Indon...</td>\n",
       "      <td>276333.333333</td>\n",
       "      <td>buah hotel modern jangkau jawa timur</td>\n",
       "      <td>low</td>\n",
       "    </tr>\n",
       "  </tbody>\n",
       "</table>\n",
       "</div>"
      ],
      "text/plain": [
       "                                 hotel_id  \\\n",
       "hotel_name                                  \n",
       "favehotel Graha Agung Surabaya      h0002   \n",
       "The Sun Hotel Sidoarjo              h0003   \n",
       "Grand Surabaya Hotel                h0004   \n",
       "The WIN Hotel Surabaya              h0005   \n",
       "POP! Hotel Stasiun Kota Surabaya    h0006   \n",
       "\n",
       "                                                                  hotel_description  \\\n",
       "hotel_name                                                                            \n",
       "favehotel Graha Agung Surabaya    Sebuah Hotel Mewah di Surabaya Persembahan dar...   \n",
       "The Sun Hotel Sidoarjo            Hotel Bintang 3 Pertama dan Satu-satunya di Si...   \n",
       "Grand Surabaya Hotel                 Penginapan Yang Tenang Dan Nyaman Di Surabaya.   \n",
       "The WIN Hotel Surabaya            WIN Hotel adalah hotel smart bintang 3 yang me...   \n",
       "POP! Hotel Stasiun Kota Surabaya  Sebuah Hotel Modern yang Terjangkau di Jawa Timur   \n",
       "\n",
       "                                 hotel_province hotel_city  \\\n",
       "hotel_name                                                   \n",
       "favehotel Graha Agung Surabaya       Jawa Timur   Surabaya   \n",
       "The Sun Hotel Sidoarjo               Jawa Timur   Surabaya   \n",
       "Grand Surabaya Hotel                 Jawa Timur   Surabaya   \n",
       "The WIN Hotel Surabaya               Jawa Timur   Surabaya   \n",
       "POP! Hotel Stasiun Kota Surabaya     Jawa Timur   Surabaya   \n",
       "\n",
       "                                                                      hotel_address  \\\n",
       "hotel_name                                                                            \n",
       "favehotel Graha Agung Surabaya    Jl. Mayjen Yono Soewoyo Pakuwon Indah Square A...   \n",
       "The Sun Hotel Sidoarjo            Jl. Pahlawan No.1,Sidokumpul, Sidoarjo, Suraba...   \n",
       "Grand Surabaya Hotel                          Jl. Pemuda 19-21, Surabaya, Indonesia   \n",
       "The WIN Hotel Surabaya            Jl. Embong Tanjung 46 - 48 Surabaya, Jawa Timu...   \n",
       "POP! Hotel Stasiun Kota Surabaya  Jl. Waspada No.58, Surabaya, Jawa Timur, Indon...   \n",
       "\n",
       "                                  price_per_night  \\\n",
       "hotel_name                                          \n",
       "favehotel Graha Agung Surabaya      442860.000000   \n",
       "The Sun Hotel Sidoarjo              305000.000000   \n",
       "Grand Surabaya Hotel                324999.333333   \n",
       "The WIN Hotel Surabaya              310947.250000   \n",
       "POP! Hotel Stasiun Kota Surabaya    276333.333333   \n",
       "\n",
       "                                                                               desc  \\\n",
       "hotel_name                                                                            \n",
       "favehotel Graha Agung Surabaya    buah hotel mewah surabaya sembah archipelago i...   \n",
       "The Sun Hotel Sidoarjo                 hotel bintang 3 pertama satusatunya sidoarjo   \n",
       "Grand Surabaya Hotel                                    inap tenang nyaman surabaya   \n",
       "The WIN Hotel Surabaya            win hotel hotel smart bintang 3 tawar layan tu...   \n",
       "POP! Hotel Stasiun Kota Surabaya               buah hotel modern jangkau jawa timur   \n",
       "\n",
       "                                 price_bin  \n",
       "hotel_name                                  \n",
       "favehotel Graha Agung Surabaya         low  \n",
       "The Sun Hotel Sidoarjo                 low  \n",
       "Grand Surabaya Hotel                   low  \n",
       "The WIN Hotel Surabaya                 low  \n",
       "POP! Hotel Stasiun Kota Surabaya       low  "
      ]
     },
     "execution_count": 34,
     "metadata": {},
     "output_type": "execute_result"
    }
   ],
   "source": [
    "df.head()"
   ]
  },
  {
   "cell_type": "code",
   "execution_count": 35,
   "metadata": {},
   "outputs": [],
   "source": [
    "df['metadata'] = df[['desc','hotel_province','hotel_city','price_bin']].agg(' '.join, axis=1)"
   ]
  },
  {
   "cell_type": "code",
   "execution_count": 36,
   "metadata": {},
   "outputs": [
    {
     "data": {
      "text/plain": [
       "hotel_name\n",
       "favehotel Graha Agung Surabaya         buah hotel mewah surabaya sembah archipelago i...\n",
       "The Sun Hotel Sidoarjo                 hotel bintang 3 pertama satusatunya sidoarjo J...\n",
       "Grand Surabaya Hotel                   inap tenang nyaman surabaya Jawa Timur Surabay...\n",
       "The WIN Hotel Surabaya                 win hotel hotel smart bintang 3 tawar layan tu...\n",
       "POP! Hotel Stasiun Kota Surabaya       buah hotel modern jangkau jawa timur Jawa Timu...\n",
       "                                                             ...                        \n",
       "Restu Hotel Yogyakarta                 akomodasi nyaman modern yogyakarta akomodasi t...\n",
       "Oryza Hotel Malioboro                  ideal accommodation options in the malioboro a...\n",
       "Hotel Asri Graha Yogyakarta            pilih akomodasi ideal pasang backpacker libur ...\n",
       "Tasneem Convention Hotel Yogyakarta    pilih akomodasi ideal pasang backpacker libur ...\n",
       "Pesonna Hotel Tugu Yogyakarta          inap tenang nyaman dekat tugu jogja pesonna tu...\n",
       "Name: metadata, Length: 1098, dtype: object"
      ]
     },
     "execution_count": 36,
     "metadata": {},
     "output_type": "execute_result"
    }
   ],
   "source": [
    "df['metadata']"
   ]
  },
  {
   "cell_type": "code",
   "execution_count": 37,
   "metadata": {},
   "outputs": [],
   "source": [
    "tfidf = tf.fit_transform(df['metadata'])\n",
    "cos_sim = cosine_similarity(tfidf, tfidf)"
   ]
  },
  {
   "cell_type": "code",
   "execution_count": 39,
   "metadata": {},
   "outputs": [
    {
     "data": {
      "text/plain": [
       "['Gunawangsa Manyar Hotel - 1.0000000000000002',\n",
       " 'Midtown Hotel Surabaya - 0.36231764515648446',\n",
       " 'Deka Hotel - 0.3251940293569784',\n",
       " 'Grand Surabaya Hotel - 0.3251940293569784',\n",
       " 'Hersya Front One Inn - 0.3251940293569784',\n",
       " 'Wyndham Surabaya - 0.3251940293569784',\n",
       " 'Continent My Tower Hotel, Surabaya - Rungkut - 0.3251940293569784',\n",
       " 'Namira Syariah Surabaya Hotel - 0.3251940293569784',\n",
       " 'Narita Classic Hotel Surabaya - 0.3138966605585867',\n",
       " 'Premier Place Surabaya Airport - 0.3138966605585867',\n",
       " 'Quest Hotel Darmo - Surabaya by ASTON - 0.3138966605585867']"
      ]
     },
     "execution_count": 39,
     "metadata": {},
     "output_type": "execute_result"
    }
   ],
   "source": [
    "rekomendasi('Gunawangsa Manyar Hotel', 10)"
   ]
  },
  {
   "cell_type": "code",
   "execution_count": null,
   "metadata": {},
   "outputs": [],
   "source": []
  }
 ],
 "metadata": {
  "kernelspec": {
   "display_name": "Python 3",
   "language": "python",
   "name": "python3"
  },
  "language_info": {
   "codemirror_mode": {
    "name": "ipython",
    "version": 3
   },
   "file_extension": ".py",
   "mimetype": "text/x-python",
   "name": "python",
   "nbconvert_exporter": "python",
   "pygments_lexer": "ipython3",
   "version": "3.7.6"
  }
 },
 "nbformat": 4,
 "nbformat_minor": 4
}
